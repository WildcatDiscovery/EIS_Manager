{
 "metadata": {
  "language_info": {
   "codemirror_mode": {
    "name": "ipython",
    "version": 3
   },
   "file_extension": ".py",
   "mimetype": "text/x-python",
   "name": "python",
   "nbconvert_exporter": "python",
   "pygments_lexer": "ipython3",
   "version": "3.8.6-final"
  },
  "orig_nbformat": 2,
  "kernelspec": {
   "name": "Python 3.8.6 64-bit ('utils': venv)",
   "display_name": "Python 3.8.6 64-bit ('utils': venv)",
   "metadata": {
    "interpreter": {
     "hash": "74a55cd302db535d68964efa7f6c82bc5a49d2707de5c5558ec249438a4d2e06"
    }
   }
  }
 },
 "nbformat": 4,
 "nbformat_minor": 2,
 "cells": [
  {
   "cell_type": "code",
   "execution_count": 1,
   "metadata": {},
   "outputs": [
    {
     "output_type": "execute_result",
     "data": {
      "text/plain": [
       "'server: wdtdevsql02\\ndatabase: WDT_PROD\\nlogin: application\\npassword: !v80VD8gX!vK'"
      ]
     },
     "metadata": {},
     "execution_count": 1
    }
   ],
   "source": [
    "#UPDATED SQL SERVER PULLER ON SQLSERVER 02\n",
    "import pyodbc\n",
    "from tools import *\n",
    "import json\n",
    "'''server: wdtdevsql02\n",
    "database: WDT_PROD\n",
    "login: application\n",
    "password: !v80VD8gX!vK'''"
   ]
  },
  {
   "cell_type": "code",
   "execution_count": 2,
   "metadata": {},
   "outputs": [],
   "source": [
    "server = 'wdtdevsql01'\n",
    "database = 'WDT_PROD'\n",
    "username= 'application'\n",
    "password= '!v80VD8gX!vK'\n",
    "pyodbc_cnntr = 'DRIVER={ODBC Driver 17 for SQL Server};SERVER='+server+';DATABASE='+database+';UID='+username+';PWD='+ password"
   ]
  },
  {
   "cell_type": "code",
   "execution_count": 3,
   "metadata": {},
   "outputs": [],
   "source": [
    "ids = []\n",
    "cnxn = pyodbc.connect(pyodbc_cnntr)\n",
    "cursor = cnxn.cursor()    \n",
    "cursor.execute(\"SELECT ProcessDataID FROM Process INNER JOIN ProcessData ON Process.ProcessID = ProcessData.ProcessID WHERE Process.ProcessTypeID = 29 AND ProcessData.ProcessingRequired = 1\")\n",
    "for row in cursor.fetchall():\n",
    "    ids.append(row.ProcessDataID)\n",
    "cnxn.close()"
   ]
  },
  {
   "cell_type": "code",
   "execution_count": 4,
   "metadata": {},
   "outputs": [
    {
     "output_type": "execute_result",
     "data": {
      "text/plain": [
       "[1302393, 1302394, 1302395, 1302392, 1302391]"
      ]
     },
     "metadata": {},
     "execution_count": 4
    }
   ],
   "source": [
    "ids"
   ]
  },
  {
   "cell_type": "code",
   "execution_count": 5,
   "metadata": {},
   "outputs": [],
   "source": [
    "def leastsq_errorfunc(params, w, re, im, circuit, weight_func = 'modulus'):\n",
    "        if circuit == 'R-RQ-RQ':\n",
    "            re_fit = cir_RsRQRQ_fit(params, w).real\n",
    "            im_fit = -cir_RsRQRQ_fit(params, w).imag\n",
    "        elif circuit == 'R-RQ-Q':\n",
    "            re_fit = cir_RsRQQ_fit(params, w).real\n",
    "            im_fit = -cir_RsRQQ_fit(params, w).imag\n",
    "        elif circuit == 'R-RQ-RQ2':\n",
    "            re_fit = cir_RsRQRQ2_fit(params, w).real\n",
    "            im_fit = -cir_RsRQRQ2_fit(params, w).imag\n",
    "        elif circuit == 'R-RQ-RQ-Q':\n",
    "            re_fit = cir_RsRQRQQ_fit(params, w).real\n",
    "            im_fit = -cir_RsRQRQQ_fit(params, w).imag\n",
    "        else:\n",
    "            print('Circuit is not defined in leastsq_errorfunc()')\n",
    "\n",
    "        error = ([(re-re_fit)**2, (im-im_fit)**2]) #sum of squares\n",
    "        \n",
    "        #Different Weighing options, see Lasia\n",
    "        if weight_func == 'modulus':\n",
    "            weight = [1/((re_fit**2 + im_fit**2)**(1/2)), 1/((re_fit**2 + im_fit**2)**(1/2))]\n",
    "        elif weight_func == 'proportional':\n",
    "            weight = [1/(re_fit**2), 1/(im_fit**2)]\n",
    "        elif weight_func == 'unity':\n",
    "            unity_1s = []\n",
    "            for k in range(len(re)):\n",
    "                unity_1s.append(1) #makes an array of [1]'s, so that the weighing is == 1 * sum of squres.\n",
    "            weight = [unity_1s, unity_1s]\n",
    "        else:\n",
    "            print('weight not defined in leastsq_errorfunc()')\n",
    "        \n",
    "        S = np.array(weight) * error #weighted sum of squares \n",
    "        return S"
   ]
  },
  {
   "cell_type": "code",
   "execution_count": 14,
   "metadata": {},
   "outputs": [],
   "source": [
    "#SINGLE FIT ENDPOINT\n",
    "#PYWWS/api/eisfitter/fit/processDataId_<processDataId>\n",
    "def single_file_fit(file_id, grapher = False):\n",
    "    file_data = {}\n",
    "    cnxn = pyodbc.connect(pyodbc_cnntr)\n",
    "    cursor = cnxn.cursor()    \n",
    "    cursor.execute(\"SELECT ProcessID, ProcessDataID, ModelID, Model, RawData FROM bdc_tblfn_getEISDataToFitByProcessDataID(\"+str(file_id)+\")\")\n",
    "    for row in cursor.fetchall():\n",
    "        file_data.update({row.ProcessDataID:row.RawData})\n",
    "    cnxn.close()\n",
    "    print(\"Collected the File \"+str(file_id)+\". Commencing to fit the data...\")\n",
    "    file_data = json.loads(file_data[file_id])\n",
    "    freq = []\n",
    "    re = []\n",
    "    im = []\n",
    "    for i in file_data:\n",
    "        freq.append(i['Frequency_Hz'])\n",
    "        im.append(i['Minus_Z_Imaginary_Ohm'])\n",
    "        re.append(i['Z_Real_Ohm'])\n",
    "    #Formatting the database results into pd series for minimizing module function\n",
    "    freq = pd.Series([np.float64(i) for i in freq])\n",
    "    re = pd.Series([np.float64(i) for i in re])\n",
    "    im = pd.Series([np.float64(i) for i in im])\n",
    "    init_guesses = []\n",
    "    param_list = []\n",
    "    #pre_coeffs = []\n",
    "    for i in range(20):\n",
    "        #initial guesses still rely on the real values\n",
    "        Rs_guess = min(re)\n",
    "        R1_guess = max(re)//4\n",
    "        n1_guess = random.uniform(0, 1)\n",
    "        q1_guess = random.uniform(0, .001)\n",
    "        R2_guess = 2*max(re)//4\n",
    "        n2_guess = random.uniform(0, 1)\n",
    "        q2_guess = random.uniform(0, .001)\n",
    "        Q3_guess = random.uniform(0, .001)\n",
    "        n3_guess = random.uniform(0, 1)\n",
    "        params = Parameters()\n",
    "        params.add('Rs', value=Rs_guess, min=Rs_guess*.001, max=Rs_guess*10)\n",
    "        params.add('R1', value=R1_guess, min=R1_guess*.001, max=R1_guess*10)\n",
    "        params.add('n1', value=n1_guess, min=0, max=1)\n",
    "        params.add('Q1', value=q1_guess, min=0, max=.001)\n",
    "        params.add('R2', value=R2_guess, min=R2_guess*.001, max=R2_guess*10)\n",
    "        params.add('n2', value=n2_guess, min=.01, max=1)\n",
    "        params.add('Q2', value=q2_guess, min=0, max=.001)\n",
    "        params.add('Q', value=Q3_guess, min=0, max=.001)\n",
    "        params.add('n', value=n3_guess, min=.01, max=1)\n",
    "        param_list.append(params)\n",
    "        circuit = 'R-RQ-RQ-Q'\n",
    "        weight_func = 'modulus'\n",
    "        nan_policy = 'raise'\n",
    "        maxfev = 5000\n",
    "        #MINIMIZE CANNOT TAKE IN LISTS\n",
    "        #IT MUST BE PD SERIES\n",
    "        #ALSO IT MUST BE CALLED SERIES.VALUES\n",
    "        #NOT JUST SERIES\n",
    "        fitted_data = minimize(leastsq_errorfunc, params, method='leastsq', args=(freq.values, re.values, im.values, circuit, weight_func), nan_policy=nan_policy, maxfev=maxfev)\n",
    "        #pre_coeffs.append(fitted_data.params.valuesdict())\n",
    "        #print(\"CHI-SQ ERROR: \", fitted_data.chisqr)\n",
    "        init_guesses.append(fitted_data.chisqr)\n",
    "        #print(\"PARAMS\")\n",
    "        #pp.pprint(fitted_data.params)\n",
    "    optimal_params = param_list[init_guesses.index(min(init_guesses))]\n",
    "    fitted_dict = optimal_params.valuesdict()\n",
    "    fitted_data=minimize(leastsq_errorfunc, optimal_params, method='leastsq', args=(freq.values, re.values, im.values, circuit, weight_func), nan_policy=nan_policy, maxfev=maxfev)\n",
    "    print(\"File has been fitted. Results are as follows\")\n",
    "    fitted_params = json.dumps(fitted_dict)\n",
    "    final = []\n",
    "    for i in fitted_dict.keys():\n",
    "        print(\"(\"+str(file_id)+\", '\"+ str(i)+\"',\"+str(fitted_dict[i])+\")\")\n",
    "        final.append(\"(\"+str(file_id)+\", '\"+ str(i)+\"',\"+str(fitted_dict[i])+\")\")\n",
    "    cnxn = pyodbc.connect(pyodbc_cnntr)\n",
    "    cursor = cnxn.cursor()  \n",
    "    try:  \n",
    "        print(\"Writing to the Server now...\")\n",
    "        for i in final:\n",
    "            cursor.execute(\"INSERT INTO ACImpedanceData_FitParameter(ProcessDataID, ParameterName,ParameterValue) VALUES \"+i)\n",
    "        cursor.commit()\n",
    "        cnxn.close()\n",
    "    except pyodbc.Error as ex:\n",
    "        sqlstate = ex.args[0]\n",
    "        if sqlstate == '23000':\n",
    "            print(\"GO LAKERS JK\")\n",
    "    if grapher:\n",
    "        #PLOTTING\n",
    "        #Collecting the fitted data to prepare for plotting te points\n",
    "        fitted_points = cir_RsRQRQQ(w=freq.values, Rs=fitted_data.params.get('Rs').value, Q=fitted_data.params.get('Q').value, n=fitted_data.params.get('n').value, R1=fitted_data.params.get('R1').value, Q1=fitted_data.params.get('Q1').value, n1=fitted_data.params.get('n1').value, fs1='None', R2=fitted_data.params.get('R2').value, Q2=fitted_data.params.get('Q2').value, n2=fitted_data.params.get('n2').value, fs2='None')\n",
    "        fig = plt.figure(dpi=120, figsize = [30, 25], facecolor='w', edgecolor='w')\n",
    "        #fig.subplots_adjust(left=0.1, right=0.95, hspace=0.5, bottom=0.1, top=0.95)\n",
    "        ax = fig.add_subplot(211)\n",
    "        ax.tick_params(axis='both', which='major', labelsize=40)\n",
    "        ax.tick_params(axis='both', which='minor', labelsize=40)\n",
    "        ### Figure specifics\n",
    "        ax.set_title(file_id, fontsize = 40)\n",
    "        ax.legend(loc='best', fontsize=30, frameon=False)\n",
    "        #ax.set_xlim(0,1000)\n",
    "        #ax.set_ylim(0,1000)\n",
    "        #Color initialization\n",
    "        colors = sns.color_palette(\"colorblind\", n_colors=1)\n",
    "        colors_real = sns.color_palette(\"Blues\", n_colors=2)\n",
    "        colors_imag = sns.color_palette(\"Oranges\", n_colors=2)\n",
    "        ax.plot(fitted_points.real, -fitted_points.imag, '.', label = 'predicted', markersize = 30)\n",
    "        ax.plot(re, im, '.', label = 'raw', markersize = 30)\n",
    "        ax.legend(fontsize = 30)\n",
    "        plt.show()"
   ]
  },
  {
   "cell_type": "code",
   "execution_count": 7,
   "metadata": {},
   "outputs": [
    {
     "output_type": "stream",
     "name": "stdout",
     "text": [
      "Collected the File Raw DATA. Commencing to fit the data...\n",
      "File has been fitted. Results are as follows\n",
      "(1302393, 'Rs',99.734795)\n",
      "(1302393, 'R1',8078.0)\n",
      "(1302393, 'n1',0.9313247279225814)\n",
      "(1302393, 'Q1',0.00032792668264868994)\n",
      "(1302393, 'R2',16157.0)\n",
      "(1302393, 'n2',0.08519947959940066)\n",
      "(1302393, 'Q2',0.0009462771368204181)\n",
      "(1302393, 'Q',0.0004764772501457608)\n",
      "(1302393, 'n',0.1417088348358102)\n",
      "Writing to the Server now...\n"
     ]
    }
   ],
   "source": [
    "single_file_fit(ids[0])"
   ]
  },
  {
   "cell_type": "code",
   "execution_count": 8,
   "metadata": {},
   "outputs": [
    {
     "output_type": "stream",
     "name": "stdout",
     "text": [
      "(1302393, 'n', 0.1417088348358102)\n(1302393, 'n1', 0.9313247279225814)\n(1302393, 'n2', 0.08519947959940066)\n(1302393, 'Q', 0.0004764772501457608)\n(1302393, 'Q1', 0.00032792668264868994)\n(1302393, 'Q2', 0.0009462771368204181)\n(1302393, 'R1', 8078.0)\n(1302393, 'R2', 16157.0)\n(1302393, 'Rs', 99.734795)\n"
     ]
    }
   ],
   "source": [
    "#CHECK IF IT WORKED\n",
    "cnxn = pyodbc.connect(pyodbc_cnntr)\n",
    "cursor = cnxn.cursor()  \n",
    "cursor.execute(\"SELECT * FROM ACImpedanceData_FitParameter WHERE ProcessDataID=\"+str(ids[0])+\";\")  \n",
    "for i in cursor.fetchall():\n",
    "    print(i)\n",
    "cnxn.close()"
   ]
  },
  {
   "cell_type": "code",
   "execution_count": 17,
   "metadata": {},
   "outputs": [],
   "source": [
    "#AUTOBATCH\n",
    "#PYWWS/api/eisfitter/fit\n",
    "def auto_fit_files():\n",
    "    ids = []\n",
    "    cnxn = pyodbc.connect(pyodbc_cnntr)\n",
    "    cursor = cnxn.cursor()    \n",
    "    cursor.execute(\"SELECT ProcessDataID FROM Process INNER JOIN ProcessData ON Process.ProcessID = ProcessData.ProcessID WHERE Process.ProcessTypeID = 29 AND ProcessData.ProcessingRequired = 1\")\n",
    "    for row in cursor.fetchall():\n",
    "        ids.append(row.ProcessDataID)\n",
    "    cnxn.close()\n",
    "    for i in ids[1:]:\n",
    "        single_file_fit(i)"
   ]
  },
  {
   "cell_type": "code",
   "execution_count": 18,
   "metadata": {},
   "outputs": [
    {
     "output_type": "stream",
     "name": "stdout",
     "text": [
      "Collected the File 1302393. Commencing to fit the data...\n",
      "File has been fitted. Results are as follows\n",
      "(1302393, 'Rs',99.734795)\n",
      "(1302393, 'R1',8078.0)\n",
      "(1302393, 'n1',0.3196407149358158)\n",
      "(1302393, 'Q1',0.0005207557150507538)\n",
      "(1302393, 'R2',16157.0)\n",
      "(1302393, 'n2',0.8528777707690126)\n",
      "(1302393, 'Q2',0.0009503989377027394)\n",
      "(1302393, 'Q',0.0008032382928241148)\n",
      "(1302393, 'n',0.36334753840489953)\n",
      "Writing to the Server now...\n",
      "GO LAKERS JK\n",
      "Collected the File 1302394. Commencing to fit the data...\n",
      "File has been fitted. Results are as follows\n",
      "(1302394, 'Rs',577.15405)\n",
      "(1302394, 'R1',375933.0)\n",
      "(1302394, 'n1',0.26774213151747994)\n",
      "(1302394, 'Q1',0.0004409737840240887)\n",
      "(1302394, 'R2',751866.0)\n",
      "(1302394, 'n2',0.34337959771161497)\n",
      "(1302394, 'Q2',0.0006483612522481519)\n",
      "(1302394, 'Q',0.0006501731533168331)\n",
      "(1302394, 'n',0.9386447928147141)\n",
      "Writing to the Server now...\n",
      "GO LAKERS JK\n",
      "Collected the File 1302395. Commencing to fit the data...\n",
      "File has been fitted. Results are as follows\n",
      "(1302395, 'Rs',577.15405)\n",
      "(1302395, 'R1',375933.0)\n",
      "(1302395, 'n1',0.7687640501953164)\n",
      "(1302395, 'Q1',0.0002528884667292374)\n",
      "(1302395, 'R2',751866.0)\n",
      "(1302395, 'n2',0.622238512284477)\n",
      "(1302395, 'Q2',0.00022823236710061578)\n",
      "(1302395, 'Q',0.0009641765932982495)\n",
      "(1302395, 'n',0.012110175196235917)\n",
      "Writing to the Server now...\n",
      "GO LAKERS JK\n",
      "Collected the File 1302392. Commencing to fit the data...\n",
      "File has been fitted. Results are as follows\n",
      "(1302392, 'Rs',398.59958)\n",
      "(1302392, 'R1',38083.0)\n",
      "(1302392, 'n1',0.6172973825696272)\n",
      "(1302392, 'Q1',3.7051893497685786e-05)\n",
      "(1302392, 'R2',76167.0)\n",
      "(1302392, 'n2',0.9664569575881639)\n",
      "(1302392, 'Q2',0.0008840574983967519)\n",
      "(1302392, 'Q',0.0005927247525978227)\n",
      "(1302392, 'n',0.9214339569686881)\n",
      "Writing to the Server now...\n",
      "GO LAKERS JK\n"
     ]
    }
   ],
   "source": [
    "auto_fit_files()"
   ]
  },
  {
   "cell_type": "code",
   "execution_count": 200,
   "metadata": {},
   "outputs": [
    {
     "output_type": "execute_result",
     "data": {
      "text/plain": [
       "'UPDATE ProcessData SET ProcessingRequired = 0, ProcessingEndDate = datetime.now WHERE ProcessDataID = {0} '"
      ]
     },
     "metadata": {},
     "execution_count": 200
    }
   ],
   "source": [
    "#THE REPLACEMENT UPDATING COMMANDS\n",
    "\"UPDATE ProcessData SET ProcessingStartDate = DateTime.Now, IsAttempted = 1 WHERE ProcessDataID = {0}\"\n",
    "\n",
    "#REMOVE OLD DATA\n",
    "\"DELETE FROM ACImpedance_Data WHERE ProcessDataID = ProcessDataID = {0}\"\n",
    "\n",
    "#REMOVE OLD FIT PARAMETERS\n",
    "\"DELETE FROM ACImpedance_FitParameters WHERE ProcessDataID = ProcessDataID = {0}\"\n",
    "\n",
    "#SAVE NEW FIT PARAMS\n",
    "\"INSERT INTO ACImpedance_Data VALUES (ProcessDataID, new fitted results)\"\n",
    "\n",
    "#SAVE NEW DATA\n",
    "\"INSERT INTO ACImpedance_FitParameters VALUES (ProcessDataID, new fitted results)\"\n",
    "\n",
    "#CLEAR PROCESSING FLAG\n",
    "\"UPDATE ProcessData SET ProcessingRequired = 0, ProcessingEndDate = datetime.now WHERE ProcessDataID = {0} \""
   ]
  },
  {
   "cell_type": "code",
   "execution_count": null,
   "metadata": {},
   "outputs": [],
   "source": []
  }
 ]
}