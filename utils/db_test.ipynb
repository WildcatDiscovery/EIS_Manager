{
 "metadata": {
  "language_info": {
   "codemirror_mode": {
    "name": "ipython",
    "version": 3
   },
   "file_extension": ".py",
   "mimetype": "text/x-python",
   "name": "python",
   "nbconvert_exporter": "python",
   "pygments_lexer": "ipython3",
   "version": "3.8.5-final"
  },
  "orig_nbformat": 2,
  "kernelspec": {
   "name": "python_defaultSpec_1600915214044",
   "display_name": "Python 3.8.5 64-bit"
  }
 },
 "nbformat": 4,
 "nbformat_minor": 2,
 "cells": [
  {
   "cell_type": "code",
   "execution_count": 1,
   "metadata": {},
   "outputs": [],
   "source": [
    "from tools import *\n",
    "import json\n",
    "#from webapp import *\n",
    "import pyodbc\n",
    "#IMPORT DATABASE FROM SQL SERVER AND FIT DATA JUST OFF OF THE DATABASE"
   ]
  },
  {
   "cell_type": "code",
   "execution_count": 2,
   "metadata": {},
   "outputs": [],
   "source": [
    "server = 'wdtdevsql02'\n",
    "database = 'WDT_PROD'\n",
    "username= 'application'\n",
    "password= '!v80VD8gX!vK'\n",
    "pyodbc_cnntr = 'DRIVER={ODBC Driver 17 for SQL Server};SERVER='+server+';DATABASE='+database+';UID='+username+';PWD='+ password"
   ]
  },
  {
   "cell_type": "code",
   "execution_count": 3,
   "metadata": {},
   "outputs": [
    {
     "output_type": "execute_result",
     "data": {
      "text/plain": "'server: wdtdevsql02\\ndatabase: WDT_PROD\\nlogin: application\\npassword: !v80VD8gX!vK'"
     },
     "metadata": {},
     "execution_count": 3
    }
   ],
   "source": [
    "'''server: wdtdevsql02\n",
    "database: WDT_PROD\n",
    "login: application\n",
    "password: !v80VD8gX!vK'''"
   ]
  },
  {
   "cell_type": "code",
   "execution_count": 20,
   "metadata": {},
   "outputs": [],
   "source": [
    "to_return = {}  \n",
    "cnxn = pyodbc.connect(pyodbc_cnntr)\n",
    "cursor = cnxn.cursor()    \n",
    "cursor.execute(\"SELECT Frequency_Hz, Minus_Z_Imaginary_Ohm, Z_Real_Ohm FROM ACImpedanceData_Raw WHERE Cycle = 1 AND ProcessDataID = 737864\")\n",
    "for row in cursor.fetchall():\n",
    "    to_return.update({row.Frequency_Hz: [row.Z_Real_Ohm, row.Minus_Z_Imaginary_Ohm]})\n",
    "cnxn.close()"
   ]
  },
  {
   "cell_type": "code",
   "execution_count": 21,
   "metadata": {
    "tags": []
   },
   "outputs": [
    {
     "output_type": "execute_result",
     "data": {
      "text/plain": "{1.0000637: [25524996.0, 5322199.0],\n 1.1224855: [25198394.0, 5468659.0],\n 1.2596743: [24708566.0, 5800842.0],\n 1.4122375: [24416218.0, 5929125.5],\n 1.5840428: [24262230.0, 5756475.5],\n 1.7796121: [23679500.0, 6118924.5],\n 1.9970596: [23172492.0, 6331669.5],\n 2.2398219: [22821876.0, 6360373.5],\n 2.513674: [22431738.0, 6654888.5],\n 2.8183618: [22018528.0, 6734998.5],\n 3.1603959: [21492932.0, 6943168.5],\n 3.5511355: [20987878.0, 6915280.5],\n 3.9778507: [20426124.0, 7380130.0],\n 4.4693928: [19743972.0, 7714598.0],\n 5.0144405: [19489748.0, 8027859.5],\n 5.6205029: [19501802.0, 7654888.5],\n 6.3105812: [17957812.0, 7786491.5],\n 7.0765405: [17295566.0, 8261442.0],\n 7.9395342: [16700054.0, 8772757.0],\n 8.9183798: [16152548.0, 8554055.0],\n 10.003201: [15760374.0, 8834763.0],\n 11.224855: [14564249.0, 8894460.0],\n 12.600808: [13724772.0, 9258300.0],\n 14.118973: [12983082.0, 9263558.0],\n 15.857575: [11527969.0, 9403910.0],\n 17.796127: [11302319.0, 9344952.0],\n 19.955299: [10578121.0, 9263836.0],\n 22.385387: [9640185.0, 9111672.0],\n 25.104427: [8622515.0, 8842497.0],\n 28.170067: [8077856.0, 8717109.0],\n 31.629551: [7397456.5, 8452545.0],\n 35.465298: [6582341.0, 8103548.0],\n 39.80891: [5791110.5, 7808033.5],\n 44.671211: [5103088.0, 7418620.5],\n 50.144405: [4634981.5, 7001388.0],\n 56.241814: [4067546.8, 6599796.5],\n 63.160748: [3571604.0, 6228583.0],\n 70.838745: [3059878.0, 5712644.0],\n 79.415459: [2663927.0, 5394363.0],\n 89.115974: [2334815.8, 5027589.0],\n 100.03201: [2031051.9, 4610191.0],\n 112.18996: [1750081.5, 4272520.0],\n 125.84568: [1499447.8, 3926263.5],\n 141.31134: [1319705.3, 3581137.5],\n 158.42838: [1115825.5, 3308531.0],\n 177.78128: [955705.13, 3005412.0],\n 199.55299: [832066.56, 2740055.0],\n 223.92513: [704613.5, 2493038.8],\n 251.04428: [595111.63, 2257197.0],\n 281.89429: [518681.03, 2046192.3],\n 316.31577: [446964.81, 1858819.1],\n 354.65948: [382869.41, 1684075.5],\n 398.08911: [294319.09, 1454631.5],\n 446.8588: [281975.94, 1373999.6],\n 501.44406: [243355.19, 1240978.5],\n 562.33917: [209445.67, 1118052.1],\n 631.00952: [181738.38, 1009077.6],\n 707.50946: [156613.7, 904948.31],\n 794.23767: [137034.2, 817420.63],\n 891.42584: [118989.26, 735595.63],\n 1000.3201: [104102.64, 662339.38],\n 1121.7948: [91316.852, 595653.75],\n 1258.7914: [80486.93, 534984.31],\n 1411.8373: [71228.477, 481498.56],\n 1585.5067: [64065.102, 433005.22],\n 1778.2926: [57043.379, 389409.91],\n 1995.6382: [51301.684, 350164.69],\n 2237.8513: [45762.289, 314854.53],\n 2510.8032: [41079.656, 283061.06],\n 2817.2952: [37051.777, 254595.91],\n 3161.0105: [33538.559, 229092.11],\n 3546.5947: [30481.162, 206051.83],\n 3981.2732: [27598.395, 185389.16],\n 4466.4282: [25100.549, 166959.64],\n 5011.6025: [22832.33, 150372.08],\n 5647.2573: [20686.861, 134978.33],\n 6332.9521: [18793.076, 121725.95],\n 7124.3867: [17029.639, 109493.96],\n 7944.2559: [12700.362, 96983.07],\n 8979.9863: [11477.137, 86665.289],\n 10019.531: [10471.067, 78279.992],\n 11220.699: [9558.6963, 70563.297],\n 12587.886: [8731.417, 63453.977],\n 14121.09: [7936.2617, 57034.988],\n 15849.605: [7242.8911, 51278.832],\n 17783.199: [6595.3613, 46145.844],\n 19951.164: [5983.2637, 41736.707],\n 22382.803: [5506.2495, 37374.832],\n 25117.182: [5027.9619, 33620.574],\n 28183.59: [4589.7568, 30232.08],\n 31621.086: [4194.6929, 27191.404],\n 35478.504: [3837.6802, 24444.928],\n 39814.441: [3513.4373, 21880.713],\n 44667.957: [3174.4673, 19567.807],\n 50117.172: [2920.1958, 17568.775],\n 56230.457: [2692.9141, 15756.944],\n 63095.688: [2479.082, 14088.194],\n 70791.0: [2305.6702, 12624.824],\n 79433.57: [2188.9963, 11425.996],\n 89121.07: [2071.1963, 10238.209],\n 100019.51: [1877.3607, 9205.1934],\n 112197.24: [1864.3334, 8179.1333],\n 125888.64: [1781.2233, 7290.3389],\n 141249.97: [1712.0084, 6496.3872],\n 158486.28: [1632.2247, 5736.002],\n 177831.98: [1568.8865, 5062.1392],\n 199521.44: [1413.8666, 4699.6426],\n 223876.89: [1364.9547, 4186.5654],\n 251191.36: [1314.3187, 3713.1162],\n 281835.88: [1277.6453, 3291.2712],\n 316230.38: [1248.4575, 2916.1047],\n 354814.34: [1218.9391, 2571.9119],\n 398105.38: [1192.6498, 2260.6045],\n 446679.59: [1168.8445, 1981.1088],\n 501191.31: [1131.6473, 1723.6594],\n 562343.63: [1105.2062, 1479.0186],\n 630956.81: [1076.2175, 1274.6539],\n 707949.06: [1020.2682, 1084.9863],\n 794326.0: [1008.7968, 902.83911],\n 891249.81: [1001.3268, 754.37903],\n 1000019.3: [729.93665, 575.8089]}"
     },
     "metadata": {},
     "execution_count": 21
    }
   ],
   "source": [
    "import pprint\n",
    "pp = pprint.PrettyPrinter(width=41, compact=True)\n",
    "to_return"
   ]
  },
  {
   "cell_type": "code",
   "execution_count": 54,
   "metadata": {
    "tags": []
   },
   "outputs": [],
   "source": [
    "freq = [np.float64(i) for i in list(to_return.keys())]\n",
    "re = [np.float64(i[0]) for i in list(to_return.values())]\n",
    "im = [np.float(i[1]) for i in list(to_return.values())]"
   ]
  },
  {
   "cell_type": "code",
   "execution_count": 56,
   "metadata": {},
   "outputs": [
    {
     "output_type": "execute_result",
     "data": {
      "text/plain": "numpy.float64"
     },
     "metadata": {},
     "execution_count": 56
    }
   ],
   "source": [
    "#self, params, circuit, weight_func='modulus', nan_policy='raise', maxfev = 10\n",
    "#minimize(self.leastsq_errorfunc, params, method='leastsq', args=(self.df[i].w.values, self.df[i].re.values, self.df[i].im.values, circuit, weight_func), nan_policy=nan_policy, maxfev=maxfev)\n",
    "type(freq[0])"
   ]
  },
  {
   "cell_type": "code",
   "execution_count": 47,
   "metadata": {},
   "outputs": [],
   "source": [
    "Rs_guess = min(re)\n",
    "R1_guess = max(re)//4\n",
    "n1_guess = random.uniform(0, 1)\n",
    "q1_guess = random.uniform(0, .001)\n",
    "R2_guess = 2*max(re)//4\n",
    "n2_guess = random.uniform(0, 1)\n",
    "q2_guess = random.uniform(0, .001)\n",
    "Q3_guess = random.uniform(0, .001)\n",
    "n3_guess = random.uniform(0, 1)\n",
    "params = Parameters()\n",
    "params.add('Rs', value=Rs_guess, min=Rs_guess*.001, max=Rs_guess*10)\n",
    "params.add('R1', value=R1_guess, min=R1_guess*.001, max=R1_guess*10)\n",
    "params.add('n1', value=n1_guess, min=0, max=1)\n",
    "params.add('Q1', value=q1_guess, min=0, max=.001)\n",
    "params.add('R2', value=R2_guess, min=R2_guess*.001, max=R2_guess*10)\n",
    "params.add('n2', value=n2_guess, min=.01, max=1)\n",
    "params.add('Q2', value=q2_guess, min=0, max=.001)\n",
    "params.add('Q', value=Q3_guess, min=0, max=.001)\n",
    "params.add('n', value=n3_guess, min=.01, max=1)"
   ]
  },
  {
   "cell_type": "code",
   "execution_count": 48,
   "metadata": {},
   "outputs": [],
   "source": [
    "def leastsq_errorfunc(params, w, re, im, circuit, weight_func = 'modulus'):\n",
    "        if circuit == 'R-RQ-RQ':\n",
    "            re_fit = cir_RsRQRQ_fit(params, w).real\n",
    "            im_fit = -cir_RsRQRQ_fit(params, w).imag\n",
    "        elif circuit == 'R-RQ-Q':\n",
    "            re_fit = cir_RsRQQ_fit(params, w).real\n",
    "            im_fit = -cir_RsRQQ_fit(params, w).imag\n",
    "        elif circuit == 'R-RQ-RQ2':\n",
    "            re_fit = cir_RsRQRQ2_fit(params, w).real\n",
    "            im_fit = -cir_RsRQRQ2_fit(params, w).imag\n",
    "        elif circuit == 'R-RQ-RQ-Q':\n",
    "            re_fit = cir_RsRQRQQ_fit(params, w).real\n",
    "            im_fit = -cir_RsRQRQQ_fit(params, w).imag\n",
    "        else:\n",
    "            print('Circuit is not defined in leastsq_errorfunc()')\n",
    "\n",
    "        error = ([(re-re_fit)**2, (im-im_fit)**2]) #sum of squares\n",
    "        \n",
    "        #Different Weighing options, see Lasia\n",
    "        if weight_func == 'modulus':\n",
    "            weight = [1/((re_fit**2 + im_fit**2)**(1/2)), 1/((re_fit**2 + im_fit**2)**(1/2))]\n",
    "        elif weight_func == 'proportional':\n",
    "            weight = [1/(re_fit**2), 1/(im_fit**2)]\n",
    "        elif weight_func == 'unity':\n",
    "            unity_1s = []\n",
    "            for k in range(len(re)):\n",
    "                unity_1s.append(1) #makes an array of [1]'s, so that the weighing is == 1 * sum of squres.\n",
    "            weight = [unity_1s, unity_1s]\n",
    "        else:\n",
    "            print('weight not defined in leastsq_errorfunc()')\n",
    "        \n",
    "        S = np.array(weight) * error #weighted sum of squares \n",
    "        return S\n",
    "    "
   ]
  },
  {
   "cell_type": "code",
   "execution_count": 59,
   "metadata": {
    "tags": []
   },
   "outputs": [
    {
     "output_type": "error",
     "ename": "TypeError",
     "evalue": "can't multiply sequence by non-int of type 'complex'",
     "traceback": [
      "\u001b[1;31m---------------------------------------------------------------------------\u001b[0m",
      "\u001b[1;31mTypeError\u001b[0m                                 Traceback (most recent call last)",
      "\u001b[1;32m<ipython-input-59-d64bdfd9f9ae>\u001b[0m in \u001b[0;36m<module>\u001b[1;34m\u001b[0m\n\u001b[0;32m      3\u001b[0m \u001b[0mnan_policy\u001b[0m \u001b[1;33m=\u001b[0m \u001b[1;34m'raise'\u001b[0m\u001b[1;33m\u001b[0m\u001b[1;33m\u001b[0m\u001b[0m\n\u001b[0;32m      4\u001b[0m \u001b[0mmaxfev\u001b[0m \u001b[1;33m=\u001b[0m \u001b[1;36m10\u001b[0m\u001b[1;33m\u001b[0m\u001b[1;33m\u001b[0m\u001b[0m\n\u001b[1;32m----> 5\u001b[1;33m \u001b[0mminimize\u001b[0m\u001b[1;33m(\u001b[0m\u001b[0mleastsq_errorfunc\u001b[0m\u001b[1;33m,\u001b[0m \u001b[0mparams\u001b[0m\u001b[1;33m,\u001b[0m \u001b[0mmethod\u001b[0m\u001b[1;33m=\u001b[0m\u001b[1;34m'leastsq'\u001b[0m\u001b[1;33m,\u001b[0m \u001b[0margs\u001b[0m\u001b[1;33m=\u001b[0m\u001b[1;33m(\u001b[0m\u001b[0mfreq\u001b[0m\u001b[1;33m,\u001b[0m \u001b[0mre\u001b[0m\u001b[1;33m,\u001b[0m \u001b[0mim\u001b[0m\u001b[1;33m,\u001b[0m \u001b[0mcircuit\u001b[0m\u001b[1;33m,\u001b[0m \u001b[0mweight_func\u001b[0m\u001b[1;33m)\u001b[0m\u001b[1;33m,\u001b[0m \u001b[0mnan_policy\u001b[0m\u001b[1;33m=\u001b[0m\u001b[0mnan_policy\u001b[0m\u001b[1;33m,\u001b[0m \u001b[0mmaxfev\u001b[0m\u001b[1;33m=\u001b[0m\u001b[0mmaxfev\u001b[0m\u001b[1;33m)\u001b[0m\u001b[1;33m\u001b[0m\u001b[1;33m\u001b[0m\u001b[0m\n\u001b[0m",
      "\u001b[1;32mc:\\Users\\cjang.WILDCAT\\Desktop\\eis\\EIS_Manager\\utils\\lib\\site-packages\\lmfit\\minimizer.py\u001b[0m in \u001b[0;36mminimize\u001b[1;34m(fcn, params, method, args, kws, iter_cb, scale_covar, nan_policy, reduce_fcn, calc_covar, **fit_kws)\u001b[0m\n\u001b[0;32m   2391\u001b[0m                        \u001b[0mnan_policy\u001b[0m\u001b[1;33m=\u001b[0m\u001b[0mnan_policy\u001b[0m\u001b[1;33m,\u001b[0m \u001b[0mreduce_fcn\u001b[0m\u001b[1;33m=\u001b[0m\u001b[0mreduce_fcn\u001b[0m\u001b[1;33m,\u001b[0m\u001b[1;33m\u001b[0m\u001b[1;33m\u001b[0m\u001b[0m\n\u001b[0;32m   2392\u001b[0m                        calc_covar=calc_covar, **fit_kws)\n\u001b[1;32m-> 2393\u001b[1;33m     \u001b[1;32mreturn\u001b[0m \u001b[0mfitter\u001b[0m\u001b[1;33m.\u001b[0m\u001b[0mminimize\u001b[0m\u001b[1;33m(\u001b[0m\u001b[0mmethod\u001b[0m\u001b[1;33m=\u001b[0m\u001b[0mmethod\u001b[0m\u001b[1;33m)\u001b[0m\u001b[1;33m\u001b[0m\u001b[1;33m\u001b[0m\u001b[0m\n\u001b[0m",
      "\u001b[1;32mc:\\Users\\cjang.WILDCAT\\Desktop\\eis\\EIS_Manager\\utils\\lib\\site-packages\\lmfit\\minimizer.py\u001b[0m in \u001b[0;36mminimize\u001b[1;34m(self, method, params, **kws)\u001b[0m\n\u001b[0;32m   2174\u001b[0m                         val.lower().startswith(user_method)):\n\u001b[0;32m   2175\u001b[0m                     \u001b[0mkwargs\u001b[0m\u001b[1;33m[\u001b[0m\u001b[1;34m'method'\u001b[0m\u001b[1;33m]\u001b[0m \u001b[1;33m=\u001b[0m \u001b[0mval\u001b[0m\u001b[1;33m\u001b[0m\u001b[1;33m\u001b[0m\u001b[0m\n\u001b[1;32m-> 2176\u001b[1;33m         \u001b[1;32mreturn\u001b[0m \u001b[0mfunction\u001b[0m\u001b[1;33m(\u001b[0m\u001b[1;33m**\u001b[0m\u001b[0mkwargs\u001b[0m\u001b[1;33m)\u001b[0m\u001b[1;33m\u001b[0m\u001b[1;33m\u001b[0m\u001b[0m\n\u001b[0m\u001b[0;32m   2177\u001b[0m \u001b[1;33m\u001b[0m\u001b[0m\n\u001b[0;32m   2178\u001b[0m \u001b[1;33m\u001b[0m\u001b[0m\n",
      "\u001b[1;32mc:\\Users\\cjang.WILDCAT\\Desktop\\eis\\EIS_Manager\\utils\\lib\\site-packages\\lmfit\\minimizer.py\u001b[0m in \u001b[0;36mleastsq\u001b[1;34m(self, params, **kws)\u001b[0m\n\u001b[0;32m   1566\u001b[0m \u001b[1;33m\u001b[0m\u001b[0m\n\u001b[0;32m   1567\u001b[0m         \u001b[1;32mtry\u001b[0m\u001b[1;33m:\u001b[0m\u001b[1;33m\u001b[0m\u001b[1;33m\u001b[0m\u001b[0m\n\u001b[1;32m-> 1568\u001b[1;33m             \u001b[0mlsout\u001b[0m \u001b[1;33m=\u001b[0m \u001b[0mscipy_leastsq\u001b[0m\u001b[1;33m(\u001b[0m\u001b[0mself\u001b[0m\u001b[1;33m.\u001b[0m\u001b[0m__residual\u001b[0m\u001b[1;33m,\u001b[0m \u001b[0mvariables\u001b[0m\u001b[1;33m,\u001b[0m \u001b[1;33m**\u001b[0m\u001b[0mlskws\u001b[0m\u001b[1;33m)\u001b[0m\u001b[1;33m\u001b[0m\u001b[1;33m\u001b[0m\u001b[0m\n\u001b[0m\u001b[0;32m   1569\u001b[0m         \u001b[1;32mexcept\u001b[0m \u001b[0mAbortFitException\u001b[0m\u001b[1;33m:\u001b[0m\u001b[1;33m\u001b[0m\u001b[1;33m\u001b[0m\u001b[0m\n\u001b[0;32m   1570\u001b[0m             \u001b[1;32mpass\u001b[0m\u001b[1;33m\u001b[0m\u001b[1;33m\u001b[0m\u001b[0m\n",
      "\u001b[1;32mc:\\Users\\cjang.WILDCAT\\Desktop\\eis\\EIS_Manager\\utils\\lib\\site-packages\\scipy\\optimize\\minpack.py\u001b[0m in \u001b[0;36mleastsq\u001b[1;34m(func, x0, args, Dfun, full_output, col_deriv, ftol, xtol, gtol, maxfev, epsfcn, factor, diag)\u001b[0m\n\u001b[0;32m    386\u001b[0m     \u001b[1;32mif\u001b[0m \u001b[1;32mnot\u001b[0m \u001b[0misinstance\u001b[0m\u001b[1;33m(\u001b[0m\u001b[0margs\u001b[0m\u001b[1;33m,\u001b[0m \u001b[0mtuple\u001b[0m\u001b[1;33m)\u001b[0m\u001b[1;33m:\u001b[0m\u001b[1;33m\u001b[0m\u001b[1;33m\u001b[0m\u001b[0m\n\u001b[0;32m    387\u001b[0m         \u001b[0margs\u001b[0m \u001b[1;33m=\u001b[0m \u001b[1;33m(\u001b[0m\u001b[0margs\u001b[0m\u001b[1;33m,\u001b[0m\u001b[1;33m)\u001b[0m\u001b[1;33m\u001b[0m\u001b[1;33m\u001b[0m\u001b[0m\n\u001b[1;32m--> 388\u001b[1;33m     \u001b[0mshape\u001b[0m\u001b[1;33m,\u001b[0m \u001b[0mdtype\u001b[0m \u001b[1;33m=\u001b[0m \u001b[0m_check_func\u001b[0m\u001b[1;33m(\u001b[0m\u001b[1;34m'leastsq'\u001b[0m\u001b[1;33m,\u001b[0m \u001b[1;34m'func'\u001b[0m\u001b[1;33m,\u001b[0m \u001b[0mfunc\u001b[0m\u001b[1;33m,\u001b[0m \u001b[0mx0\u001b[0m\u001b[1;33m,\u001b[0m \u001b[0margs\u001b[0m\u001b[1;33m,\u001b[0m \u001b[0mn\u001b[0m\u001b[1;33m)\u001b[0m\u001b[1;33m\u001b[0m\u001b[1;33m\u001b[0m\u001b[0m\n\u001b[0m\u001b[0;32m    389\u001b[0m     \u001b[0mm\u001b[0m \u001b[1;33m=\u001b[0m \u001b[0mshape\u001b[0m\u001b[1;33m[\u001b[0m\u001b[1;36m0\u001b[0m\u001b[1;33m]\u001b[0m\u001b[1;33m\u001b[0m\u001b[1;33m\u001b[0m\u001b[0m\n\u001b[0;32m    390\u001b[0m \u001b[1;33m\u001b[0m\u001b[0m\n",
      "\u001b[1;32mc:\\Users\\cjang.WILDCAT\\Desktop\\eis\\EIS_Manager\\utils\\lib\\site-packages\\scipy\\optimize\\minpack.py\u001b[0m in \u001b[0;36m_check_func\u001b[1;34m(checker, argname, thefunc, x0, args, numinputs, output_shape)\u001b[0m\n\u001b[0;32m     24\u001b[0m def _check_func(checker, argname, thefunc, x0, args, numinputs,\n\u001b[0;32m     25\u001b[0m                 output_shape=None):\n\u001b[1;32m---> 26\u001b[1;33m     \u001b[0mres\u001b[0m \u001b[1;33m=\u001b[0m \u001b[0matleast_1d\u001b[0m\u001b[1;33m(\u001b[0m\u001b[0mthefunc\u001b[0m\u001b[1;33m(\u001b[0m\u001b[1;33m*\u001b[0m\u001b[1;33m(\u001b[0m\u001b[1;33m(\u001b[0m\u001b[0mx0\u001b[0m\u001b[1;33m[\u001b[0m\u001b[1;33m:\u001b[0m\u001b[0mnuminputs\u001b[0m\u001b[1;33m]\u001b[0m\u001b[1;33m,\u001b[0m\u001b[1;33m)\u001b[0m \u001b[1;33m+\u001b[0m \u001b[0margs\u001b[0m\u001b[1;33m)\u001b[0m\u001b[1;33m)\u001b[0m\u001b[1;33m)\u001b[0m\u001b[1;33m\u001b[0m\u001b[1;33m\u001b[0m\u001b[0m\n\u001b[0m\u001b[0;32m     27\u001b[0m     \u001b[1;32mif\u001b[0m \u001b[1;33m(\u001b[0m\u001b[0moutput_shape\u001b[0m \u001b[1;32mis\u001b[0m \u001b[1;32mnot\u001b[0m \u001b[1;32mNone\u001b[0m\u001b[1;33m)\u001b[0m \u001b[1;32mand\u001b[0m \u001b[1;33m(\u001b[0m\u001b[0mshape\u001b[0m\u001b[1;33m(\u001b[0m\u001b[0mres\u001b[0m\u001b[1;33m)\u001b[0m \u001b[1;33m!=\u001b[0m \u001b[0moutput_shape\u001b[0m\u001b[1;33m)\u001b[0m\u001b[1;33m:\u001b[0m\u001b[1;33m\u001b[0m\u001b[1;33m\u001b[0m\u001b[0m\n\u001b[0;32m     28\u001b[0m         \u001b[1;32mif\u001b[0m \u001b[1;33m(\u001b[0m\u001b[0moutput_shape\u001b[0m\u001b[1;33m[\u001b[0m\u001b[1;36m0\u001b[0m\u001b[1;33m]\u001b[0m \u001b[1;33m!=\u001b[0m \u001b[1;36m1\u001b[0m\u001b[1;33m)\u001b[0m\u001b[1;33m:\u001b[0m\u001b[1;33m\u001b[0m\u001b[1;33m\u001b[0m\u001b[0m\n",
      "\u001b[1;32mc:\\Users\\cjang.WILDCAT\\Desktop\\eis\\EIS_Manager\\utils\\lib\\site-packages\\lmfit\\minimizer.py\u001b[0m in \u001b[0;36m__residual\u001b[1;34m(self, fvars, apply_bounds_transformation)\u001b[0m\n\u001b[0;32m    528\u001b[0m         \u001b[0mself\u001b[0m\u001b[1;33m.\u001b[0m\u001b[0mresult\u001b[0m\u001b[1;33m.\u001b[0m\u001b[0mnfev\u001b[0m \u001b[1;33m+=\u001b[0m \u001b[1;36m1\u001b[0m\u001b[1;33m\u001b[0m\u001b[1;33m\u001b[0m\u001b[0m\n\u001b[0;32m    529\u001b[0m \u001b[1;33m\u001b[0m\u001b[0m\n\u001b[1;32m--> 530\u001b[1;33m         \u001b[0mout\u001b[0m \u001b[1;33m=\u001b[0m \u001b[0mself\u001b[0m\u001b[1;33m.\u001b[0m\u001b[0muserfcn\u001b[0m\u001b[1;33m(\u001b[0m\u001b[0mparams\u001b[0m\u001b[1;33m,\u001b[0m \u001b[1;33m*\u001b[0m\u001b[0mself\u001b[0m\u001b[1;33m.\u001b[0m\u001b[0muserargs\u001b[0m\u001b[1;33m,\u001b[0m \u001b[1;33m**\u001b[0m\u001b[0mself\u001b[0m\u001b[1;33m.\u001b[0m\u001b[0muserkws\u001b[0m\u001b[1;33m)\u001b[0m\u001b[1;33m\u001b[0m\u001b[1;33m\u001b[0m\u001b[0m\n\u001b[0m\u001b[0;32m    531\u001b[0m \u001b[1;33m\u001b[0m\u001b[0m\n\u001b[0;32m    532\u001b[0m         \u001b[1;32mif\u001b[0m \u001b[0mcallable\u001b[0m\u001b[1;33m(\u001b[0m\u001b[0mself\u001b[0m\u001b[1;33m.\u001b[0m\u001b[0miter_cb\u001b[0m\u001b[1;33m)\u001b[0m\u001b[1;33m:\u001b[0m\u001b[1;33m\u001b[0m\u001b[1;33m\u001b[0m\u001b[0m\n",
      "\u001b[1;32m<ipython-input-48-8280d1c68062>\u001b[0m in \u001b[0;36mleastsq_errorfunc\u001b[1;34m(params, w, re, im, circuit, weight_func)\u001b[0m\n\u001b[0;32m     10\u001b[0m             \u001b[0mim_fit\u001b[0m \u001b[1;33m=\u001b[0m \u001b[1;33m-\u001b[0m\u001b[0mcir_RsRQRQ2_fit\u001b[0m\u001b[1;33m(\u001b[0m\u001b[0mparams\u001b[0m\u001b[1;33m,\u001b[0m \u001b[0mw\u001b[0m\u001b[1;33m)\u001b[0m\u001b[1;33m.\u001b[0m\u001b[0mimag\u001b[0m\u001b[1;33m\u001b[0m\u001b[1;33m\u001b[0m\u001b[0m\n\u001b[0;32m     11\u001b[0m         \u001b[1;32melif\u001b[0m \u001b[0mcircuit\u001b[0m \u001b[1;33m==\u001b[0m \u001b[1;34m'R-RQ-RQ-Q'\u001b[0m\u001b[1;33m:\u001b[0m\u001b[1;33m\u001b[0m\u001b[1;33m\u001b[0m\u001b[0m\n\u001b[1;32m---> 12\u001b[1;33m             \u001b[0mre_fit\u001b[0m \u001b[1;33m=\u001b[0m \u001b[0mcir_RsRQRQQ_fit\u001b[0m\u001b[1;33m(\u001b[0m\u001b[0mparams\u001b[0m\u001b[1;33m,\u001b[0m \u001b[0mw\u001b[0m\u001b[1;33m)\u001b[0m\u001b[1;33m.\u001b[0m\u001b[0mreal\u001b[0m\u001b[1;33m\u001b[0m\u001b[1;33m\u001b[0m\u001b[0m\n\u001b[0m\u001b[0;32m     13\u001b[0m             \u001b[0mim_fit\u001b[0m \u001b[1;33m=\u001b[0m \u001b[1;33m-\u001b[0m\u001b[0mcir_RsRQRQQ_fit\u001b[0m\u001b[1;33m(\u001b[0m\u001b[0mparams\u001b[0m\u001b[1;33m,\u001b[0m \u001b[0mw\u001b[0m\u001b[1;33m)\u001b[0m\u001b[1;33m.\u001b[0m\u001b[0mimag\u001b[0m\u001b[1;33m\u001b[0m\u001b[1;33m\u001b[0m\u001b[0m\n\u001b[0;32m     14\u001b[0m         \u001b[1;32melse\u001b[0m\u001b[1;33m:\u001b[0m\u001b[1;33m\u001b[0m\u001b[1;33m\u001b[0m\u001b[0m\n",
      "\u001b[1;32mc:\\Users\\cjang.WILDCAT\\Desktop\\eis\\EIS_Manager\\utils\\tools.py\u001b[0m in \u001b[0;36mcir_RsRQRQQ_fit\u001b[1;34m(params, w)\u001b[0m\n\u001b[0;32m    759\u001b[0m     \u001b[0mQ\u001b[0m \u001b[1;33m=\u001b[0m \u001b[0mparams\u001b[0m\u001b[1;33m[\u001b[0m\u001b[1;34m'Q'\u001b[0m\u001b[1;33m]\u001b[0m\u001b[1;33m\u001b[0m\u001b[1;33m\u001b[0m\u001b[0m\n\u001b[0;32m    760\u001b[0m     \u001b[0mn\u001b[0m \u001b[1;33m=\u001b[0m \u001b[0mparams\u001b[0m\u001b[1;33m[\u001b[0m\u001b[1;34m'n'\u001b[0m\u001b[1;33m]\u001b[0m\u001b[1;33m\u001b[0m\u001b[1;33m\u001b[0m\u001b[0m\n\u001b[1;32m--> 761\u001b[1;33m     \u001b[1;32mreturn\u001b[0m \u001b[0mRs\u001b[0m \u001b[1;33m+\u001b[0m \u001b[0mcir_RQ\u001b[0m\u001b[1;33m(\u001b[0m\u001b[0mw\u001b[0m\u001b[1;33m,\u001b[0m \u001b[0mR\u001b[0m\u001b[1;33m=\u001b[0m\u001b[0mR1\u001b[0m\u001b[1;33m,\u001b[0m \u001b[0mQ\u001b[0m\u001b[1;33m=\u001b[0m\u001b[0mQ1\u001b[0m\u001b[1;33m,\u001b[0m \u001b[0mn\u001b[0m\u001b[1;33m=\u001b[0m\u001b[0mn1\u001b[0m\u001b[1;33m,\u001b[0m \u001b[0mfs\u001b[0m\u001b[1;33m=\u001b[0m\u001b[0mfs1\u001b[0m\u001b[1;33m)\u001b[0m \u001b[1;33m+\u001b[0m \u001b[0mcir_RQ\u001b[0m\u001b[1;33m(\u001b[0m\u001b[0mw\u001b[0m\u001b[1;33m,\u001b[0m \u001b[0mR\u001b[0m\u001b[1;33m=\u001b[0m\u001b[0mR2\u001b[0m\u001b[1;33m,\u001b[0m \u001b[0mQ\u001b[0m\u001b[1;33m=\u001b[0m\u001b[0mQ2\u001b[0m\u001b[1;33m,\u001b[0m \u001b[0mn\u001b[0m\u001b[1;33m=\u001b[0m\u001b[0mn2\u001b[0m\u001b[1;33m,\u001b[0m \u001b[0mfs\u001b[0m\u001b[1;33m=\u001b[0m\u001b[0mfs2\u001b[0m\u001b[1;33m)\u001b[0m \u001b[1;33m+\u001b[0m \u001b[0melem_Q\u001b[0m\u001b[1;33m(\u001b[0m\u001b[0mw\u001b[0m\u001b[1;33m,\u001b[0m\u001b[0mQ\u001b[0m\u001b[1;33m,\u001b[0m\u001b[0mn\u001b[0m\u001b[1;33m)\u001b[0m\u001b[1;33m\u001b[0m\u001b[1;33m\u001b[0m\u001b[0m\n\u001b[0m\u001b[0;32m    762\u001b[0m \u001b[1;33m\u001b[0m\u001b[0m\n\u001b[0;32m    763\u001b[0m \u001b[1;32mdef\u001b[0m \u001b[0mcir_RsRQQ\u001b[0m\u001b[1;33m(\u001b[0m\u001b[0mw\u001b[0m\u001b[1;33m,\u001b[0m \u001b[0mRs\u001b[0m\u001b[1;33m,\u001b[0m \u001b[0mQ\u001b[0m\u001b[1;33m,\u001b[0m \u001b[0mn\u001b[0m\u001b[1;33m,\u001b[0m \u001b[0mR1\u001b[0m\u001b[1;33m=\u001b[0m\u001b[1;34m'none'\u001b[0m\u001b[1;33m,\u001b[0m \u001b[0mQ1\u001b[0m\u001b[1;33m=\u001b[0m\u001b[1;34m'none'\u001b[0m\u001b[1;33m,\u001b[0m \u001b[0mn1\u001b[0m\u001b[1;33m=\u001b[0m\u001b[1;34m'none'\u001b[0m\u001b[1;33m,\u001b[0m \u001b[0mfs1\u001b[0m\u001b[1;33m=\u001b[0m\u001b[1;34m'none'\u001b[0m\u001b[1;33m)\u001b[0m\u001b[1;33m:\u001b[0m\u001b[1;33m\u001b[0m\u001b[1;33m\u001b[0m\u001b[0m\n",
      "\u001b[1;32mc:\\Users\\cjang.WILDCAT\\Desktop\\eis\\EIS_Manager\\utils\\tools.py\u001b[0m in \u001b[0;36mcir_RQ\u001b[1;34m(w, R, Q, n, fs)\u001b[0m\n\u001b[0;32m    169\u001b[0m     \u001b[1;32melif\u001b[0m \u001b[0mn\u001b[0m \u001b[1;33m==\u001b[0m \u001b[1;34m'none'\u001b[0m\u001b[1;33m:\u001b[0m\u001b[1;33m\u001b[0m\u001b[1;33m\u001b[0m\u001b[0m\n\u001b[0;32m    170\u001b[0m         \u001b[0mn\u001b[0m \u001b[1;33m=\u001b[0m \u001b[0mnp\u001b[0m\u001b[1;33m.\u001b[0m\u001b[0mlog\u001b[0m\u001b[1;33m(\u001b[0m\u001b[0mQ\u001b[0m\u001b[1;33m*\u001b[0m\u001b[0mR\u001b[0m\u001b[1;33m)\u001b[0m\u001b[1;33m/\u001b[0m\u001b[0mnp\u001b[0m\u001b[1;33m.\u001b[0m\u001b[0mlog\u001b[0m\u001b[1;33m(\u001b[0m\u001b[1;36m1\u001b[0m\u001b[1;33m/\u001b[0m\u001b[1;33m(\u001b[0m\u001b[1;36m2\u001b[0m\u001b[1;33m*\u001b[0m\u001b[0mnp\u001b[0m\u001b[1;33m.\u001b[0m\u001b[0mpi\u001b[0m\u001b[1;33m*\u001b[0m\u001b[0mfs\u001b[0m\u001b[1;33m)\u001b[0m\u001b[1;33m)\u001b[0m\u001b[1;33m\u001b[0m\u001b[1;33m\u001b[0m\u001b[0m\n\u001b[1;32m--> 171\u001b[1;33m     \u001b[1;32mreturn\u001b[0m \u001b[1;33m(\u001b[0m\u001b[0mR\u001b[0m\u001b[1;33m/\u001b[0m\u001b[1;33m(\u001b[0m\u001b[1;36m1\u001b[0m\u001b[1;33m+\u001b[0m\u001b[0mR\u001b[0m\u001b[1;33m*\u001b[0m\u001b[0mQ\u001b[0m\u001b[1;33m*\u001b[0m\u001b[1;33m(\u001b[0m\u001b[0mw\u001b[0m\u001b[1;33m*\u001b[0m\u001b[1;36m1j\u001b[0m\u001b[1;33m)\u001b[0m\u001b[1;33m**\u001b[0m\u001b[0mn\u001b[0m\u001b[1;33m)\u001b[0m\u001b[1;33m)\u001b[0m\u001b[1;33m\u001b[0m\u001b[1;33m\u001b[0m\u001b[0m\n\u001b[0m\u001b[0;32m    172\u001b[0m \u001b[1;33m\u001b[0m\u001b[0m\n\u001b[0;32m    173\u001b[0m \u001b[1;33m\u001b[0m\u001b[0m\n",
      "\u001b[1;31mTypeError\u001b[0m: can't multiply sequence by non-int of type 'complex'"
     ]
    }
   ],
   "source": [
    "circuit = 'R-RQ-RQ-Q'\n",
    "weight_func = 'modulus'\n",
    "nan_policy = 'raise'\n",
    "maxfev = 10\n",
    "minimize(leastsq_errorfunc, params, method='leastsq', args=(freq, re, im, circuit, weight_func), nan_policy=nan_policy, maxfev=maxfev)"
   ]
  },
  {
   "cell_type": "code",
   "execution_count": 82,
   "metadata": {},
   "outputs": [
    {
     "output_type": "execute_result",
     "data": {
      "text/plain": "0      0.000000e+00+1.000064e+00j\n1      0.000000e+00+1.122486e+00j\n2      0.000000e+00+1.259674e+00j\n3      0.000000e+00+1.412238e+00j\n4      0.000000e+00+1.584043e+00j\n5      0.000000e+00+1.779612e+00j\n6      0.000000e+00+1.997060e+00j\n7      0.000000e+00+2.239822e+00j\n8      0.000000e+00+2.513674e+00j\n9      0.000000e+00+2.818362e+00j\n10     0.000000e+00+3.160396e+00j\n11     0.000000e+00+3.551136e+00j\n12     0.000000e+00+3.977851e+00j\n13     0.000000e+00+4.469393e+00j\n14     0.000000e+00+5.014441e+00j\n15     0.000000e+00+5.620503e+00j\n16     0.000000e+00+6.310581e+00j\n17     0.000000e+00+7.076541e+00j\n18     0.000000e+00+7.939534e+00j\n19     0.000000e+00+8.918380e+00j\n20     0.000000e+00+1.000320e+01j\n21     0.000000e+00+1.122485e+01j\n22     0.000000e+00+1.260081e+01j\n23     0.000000e+00+1.411897e+01j\n24     0.000000e+00+1.585758e+01j\n25     0.000000e+00+1.779613e+01j\n26     0.000000e+00+1.995530e+01j\n27     0.000000e+00+2.238539e+01j\n28     0.000000e+00+2.510443e+01j\n29     0.000000e+00+2.817007e+01j\n30     0.000000e+00+3.162955e+01j\n31     0.000000e+00+3.546530e+01j\n32     0.000000e+00+3.980891e+01j\n33     0.000000e+00+4.467121e+01j\n34     0.000000e+00+5.014440e+01j\n35     0.000000e+00+5.624181e+01j\n36     0.000000e+00+6.316075e+01j\n37     0.000000e+00+7.083875e+01j\n38     0.000000e+00+7.941546e+01j\n39     0.000000e+00+8.911597e+01j\n40     0.000000e+00+1.000320e+02j\n41     0.000000e+00+1.121900e+02j\n42     0.000000e+00+1.258457e+02j\n43     0.000000e+00+1.413113e+02j\n44     0.000000e+00+1.584284e+02j\n45     0.000000e+00+1.777813e+02j\n46     0.000000e+00+1.995530e+02j\n47     0.000000e+00+2.239251e+02j\n48     0.000000e+00+2.510443e+02j\n49     0.000000e+00+2.818943e+02j\n50     0.000000e+00+3.163158e+02j\n51     0.000000e+00+3.546595e+02j\n52     0.000000e+00+3.980891e+02j\n53     0.000000e+00+4.468588e+02j\n54     0.000000e+00+5.014441e+02j\n55     0.000000e+00+5.623392e+02j\n56     0.000000e+00+6.310095e+02j\n57     0.000000e+00+7.075095e+02j\n58     0.000000e+00+7.942377e+02j\n59     0.000000e+00+8.914258e+02j\n60     0.000000e+00+1.000320e+03j\n61     0.000000e+00+1.121795e+03j\n62     0.000000e+00+1.258791e+03j\n63     0.000000e+00+1.411837e+03j\n64     0.000000e+00+1.585507e+03j\n65     0.000000e+00+1.778293e+03j\n66     0.000000e+00+1.995638e+03j\n67     0.000000e+00+2.237851e+03j\n68     0.000000e+00+2.510803e+03j\n69     0.000000e+00+2.817295e+03j\n70     0.000000e+00+3.161010e+03j\n71     0.000000e+00+3.546595e+03j\n72     0.000000e+00+3.981273e+03j\n73     0.000000e+00+4.466428e+03j\n74     0.000000e+00+5.011602e+03j\n75     0.000000e+00+5.647257e+03j\n76     0.000000e+00+6.332952e+03j\n77     0.000000e+00+7.124387e+03j\n78     0.000000e+00+7.944256e+03j\n79     0.000000e+00+8.979986e+03j\n80     0.000000e+00+1.001953e+04j\n81     0.000000e+00+1.122070e+04j\n82     0.000000e+00+1.258789e+04j\n83     0.000000e+00+1.412109e+04j\n84     0.000000e+00+1.584960e+04j\n85     0.000000e+00+1.778320e+04j\n86     0.000000e+00+1.995116e+04j\n87     0.000000e+00+2.238280e+04j\n88     0.000000e+00+2.511718e+04j\n89     0.000000e+00+2.818359e+04j\n90     0.000000e+00+3.162109e+04j\n91     0.000000e+00+3.547850e+04j\n92     0.000000e+00+3.981444e+04j\n93     0.000000e+00+4.466796e+04j\n94     0.000000e+00+5.011717e+04j\n95     0.000000e+00+5.623046e+04j\n96     0.000000e+00+6.309569e+04j\n97     0.000000e+00+7.079100e+04j\n98     0.000000e+00+7.943357e+04j\n99     0.000000e+00+8.912107e+04j\n100    0.000000e+00+1.000195e+05j\n101    0.000000e+00+1.121972e+05j\n102    0.000000e+00+1.258886e+05j\n103    0.000000e+00+1.412500e+05j\n104    0.000000e+00+1.584863e+05j\n105    0.000000e+00+1.778320e+05j\n106    0.000000e+00+1.995214e+05j\n107    0.000000e+00+2.238769e+05j\n108    0.000000e+00+2.511914e+05j\n109    0.000000e+00+2.818359e+05j\n110    0.000000e+00+3.162304e+05j\n111    0.000000e+00+3.548143e+05j\n112    0.000000e+00+3.981054e+05j\n113    0.000000e+00+4.466796e+05j\n114    0.000000e+00+5.011913e+05j\n115    0.000000e+00+5.623436e+05j\n116    0.000000e+00+6.309568e+05j\n117    0.000000e+00+7.079491e+05j\n118    0.000000e+00+7.943260e+05j\n119    0.000000e+00+8.912498e+05j\n120    0.000000e+00+1.000019e+06j\ndtype: complex128"
     },
     "metadata": {},
     "execution_count": 82
    }
   ],
   "source": [
    "pd.Series(freq)*1j"
   ]
  },
  {
   "cell_type": "code",
   "execution_count": 80,
   "metadata": {
    "tags": []
   },
   "outputs": [
    {
     "output_type": "execute_result",
     "data": {
      "text/plain": "pandas.core.series.Series"
     },
     "metadata": {},
     "execution_count": 80
    }
   ],
   "source": [
    "masked_mpt = mpt_data(['copy.mpt'])\n",
    "type(masked_mpt.df[0].w)"
   ]
  },
  {
   "cell_type": "code",
   "execution_count": 58,
   "metadata": {},
   "outputs": [
    {
     "output_type": "execute_result",
     "data": {
      "text/plain": "numpy.float64"
     },
     "metadata": {},
     "execution_count": 58
    }
   ],
   "source": [
    "type(freq[0])"
   ]
  },
  {
   "cell_type": "code",
   "execution_count": null,
   "metadata": {},
   "outputs": [],
   "source": []
  }
 ]
}