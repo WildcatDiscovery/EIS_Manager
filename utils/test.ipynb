{
 "cells": [
  {
   "cell_type": "code",
   "execution_count": 27,
   "metadata": {},
   "outputs": [
    {
     "data": {
      "text/html": [
       "<div>\n",
       "<style scoped>\n",
       "    .dataframe tbody tr th:only-of-type {\n",
       "        vertical-align: middle;\n",
       "    }\n",
       "\n",
       "    .dataframe tbody tr th {\n",
       "        vertical-align: top;\n",
       "    }\n",
       "\n",
       "    .dataframe thead th {\n",
       "        text-align: right;\n",
       "    }\n",
       "</style>\n",
       "<table border=\"1\" class=\"dataframe\">\n",
       "  <thead>\n",
       "    <tr style=\"text-align: right;\">\n",
       "      <th></th>\n",
       "      <th>f</th>\n",
       "      <th>re</th>\n",
       "      <th>im</th>\n",
       "      <th>Z_mag</th>\n",
       "      <th>Z_phase</th>\n",
       "      <th>times</th>\n",
       "      <th>E_avg</th>\n",
       "      <th>I_avg</th>\n",
       "      <th>Cs/µF</th>\n",
       "      <th>Cp/µF</th>\n",
       "      <th>cycle_number</th>\n",
       "      <th>I Range</th>\n",
       "      <th>|Ewe|/V</th>\n",
       "      <th>|I|/A</th>\n",
       "      <th>(Q-Qo)/mA.h</th>\n",
       "      <th>Analog IN 1/V</th>\n",
       "      <th>Y_re</th>\n",
       "      <th>Y_im</th>\n",
       "      <th>Y_mag</th>\n",
       "      <th>Y_phase</th>\n",
       "      <th>dq/mA.h</th>\n",
       "      <th>Unnamed: 21</th>\n",
       "      <th>w</th>\n",
       "    </tr>\n",
       "  </thead>\n",
       "  <tbody>\n",
       "    <tr>\n",
       "      <th>0</th>\n",
       "      <td>1000018.60</td>\n",
       "      <td>380.53094</td>\n",
       "      <td>431.64484</td>\n",
       "      <td>575.43121</td>\n",
       "      <td>-48.601131</td>\n",
       "      <td>1.607490</td>\n",
       "      <td>-0.070666</td>\n",
       "      <td>-0.000031</td>\n",
       "      <td>0.000369</td>\n",
       "      <td>0.000207</td>\n",
       "      <td>1.0</td>\n",
       "      <td>12</td>\n",
       "      <td>0.000914</td>\n",
       "      <td>1.587914e-06</td>\n",
       "      <td>-2.271957e-08</td>\n",
       "      <td>-0.000058</td>\n",
       "      <td>0.001149</td>\n",
       "      <td>0.001304</td>\n",
       "      <td>0.001738</td>\n",
       "      <td>48.601131</td>\n",
       "      <td>-2.271957e-08</td>\n",
       "      <td>NaN</td>\n",
       "      <td>6.283302e+06</td>\n",
       "    </tr>\n",
       "    <tr>\n",
       "      <th>1</th>\n",
       "      <td>891246.69</td>\n",
       "      <td>399.59314</td>\n",
       "      <td>454.89511</td>\n",
       "      <td>605.47852</td>\n",
       "      <td>-48.702984</td>\n",
       "      <td>2.204497</td>\n",
       "      <td>-0.070132</td>\n",
       "      <td>-0.000025</td>\n",
       "      <td>0.000393</td>\n",
       "      <td>0.000222</td>\n",
       "      <td>1.0</td>\n",
       "      <td>12</td>\n",
       "      <td>0.001570</td>\n",
       "      <td>2.593358e-06</td>\n",
       "      <td>-2.124911e-08</td>\n",
       "      <td>0.000022</td>\n",
       "      <td>0.001090</td>\n",
       "      <td>0.001241</td>\n",
       "      <td>0.001652</td>\n",
       "      <td>48.702984</td>\n",
       "      <td>1.470459e-09</td>\n",
       "      <td>NaN</td>\n",
       "      <td>5.599868e+06</td>\n",
       "    </tr>\n",
       "    <tr>\n",
       "      <th>2</th>\n",
       "      <td>794332.69</td>\n",
       "      <td>428.44955</td>\n",
       "      <td>494.39752</td>\n",
       "      <td>654.21552</td>\n",
       "      <td>-49.087490</td>\n",
       "      <td>2.800481</td>\n",
       "      <td>-0.069679</td>\n",
       "      <td>-0.000019</td>\n",
       "      <td>0.000405</td>\n",
       "      <td>0.000231</td>\n",
       "      <td>1.0</td>\n",
       "      <td>12</td>\n",
       "      <td>0.001983</td>\n",
       "      <td>3.031703e-06</td>\n",
       "      <td>-3.798305e-08</td>\n",
       "      <td>-0.000299</td>\n",
       "      <td>0.001001</td>\n",
       "      <td>0.001155</td>\n",
       "      <td>0.001529</td>\n",
       "      <td>49.087490</td>\n",
       "      <td>-1.673393e-08</td>\n",
       "      <td>NaN</td>\n",
       "      <td>4.990939e+06</td>\n",
       "    </tr>\n",
       "    <tr>\n",
       "      <th>3</th>\n",
       "      <td>707949.81</td>\n",
       "      <td>458.40363</td>\n",
       "      <td>534.23718</td>\n",
       "      <td>703.94830</td>\n",
       "      <td>-49.368668</td>\n",
       "      <td>3.395492</td>\n",
       "      <td>-0.069249</td>\n",
       "      <td>-0.000016</td>\n",
       "      <td>0.000421</td>\n",
       "      <td>0.000242</td>\n",
       "      <td>1.0</td>\n",
       "      <td>12</td>\n",
       "      <td>0.001806</td>\n",
       "      <td>2.566079e-06</td>\n",
       "      <td>-7.746774e-08</td>\n",
       "      <td>-0.000299</td>\n",
       "      <td>0.000925</td>\n",
       "      <td>0.001078</td>\n",
       "      <td>0.001421</td>\n",
       "      <td>49.368668</td>\n",
       "      <td>-3.948469e-08</td>\n",
       "      <td>NaN</td>\n",
       "      <td>4.448180e+06</td>\n",
       "    </tr>\n",
       "    <tr>\n",
       "      <th>4</th>\n",
       "      <td>630956.81</td>\n",
       "      <td>489.62445</td>\n",
       "      <td>583.78113</td>\n",
       "      <td>761.92682</td>\n",
       "      <td>-50.013023</td>\n",
       "      <td>3.990478</td>\n",
       "      <td>-0.068865</td>\n",
       "      <td>-0.000030</td>\n",
       "      <td>0.000432</td>\n",
       "      <td>0.000254</td>\n",
       "      <td>1.0</td>\n",
       "      <td>12</td>\n",
       "      <td>0.000749</td>\n",
       "      <td>9.835666e-07</td>\n",
       "      <td>-6.853105e-08</td>\n",
       "      <td>0.000343</td>\n",
       "      <td>0.000843</td>\n",
       "      <td>0.001006</td>\n",
       "      <td>0.001312</td>\n",
       "      <td>50.013023</td>\n",
       "      <td>8.936687e-09</td>\n",
       "      <td>NaN</td>\n",
       "      <td>3.964419e+06</td>\n",
       "    </tr>\n",
       "  </tbody>\n",
       "</table>\n",
       "</div>"
      ],
      "text/plain": [
       "            f         re         im      Z_mag    Z_phase     times     E_avg  \\\n",
       "0  1000018.60  380.53094  431.64484  575.43121 -48.601131  1.607490 -0.070666   \n",
       "1   891246.69  399.59314  454.89511  605.47852 -48.702984  2.204497 -0.070132   \n",
       "2   794332.69  428.44955  494.39752  654.21552 -49.087490  2.800481 -0.069679   \n",
       "3   707949.81  458.40363  534.23718  703.94830 -49.368668  3.395492 -0.069249   \n",
       "4   630956.81  489.62445  583.78113  761.92682 -50.013023  3.990478 -0.068865   \n",
       "\n",
       "      I_avg     Cs/µF     Cp/µF  cycle_number  I Range   |Ewe|/V  \\\n",
       "0 -0.000031  0.000369  0.000207           1.0       12  0.000914   \n",
       "1 -0.000025  0.000393  0.000222           1.0       12  0.001570   \n",
       "2 -0.000019  0.000405  0.000231           1.0       12  0.001983   \n",
       "3 -0.000016  0.000421  0.000242           1.0       12  0.001806   \n",
       "4 -0.000030  0.000432  0.000254           1.0       12  0.000749   \n",
       "\n",
       "          |I|/A   (Q-Qo)/mA.h  Analog IN 1/V      Y_re      Y_im     Y_mag  \\\n",
       "0  1.587914e-06 -2.271957e-08      -0.000058  0.001149  0.001304  0.001738   \n",
       "1  2.593358e-06 -2.124911e-08       0.000022  0.001090  0.001241  0.001652   \n",
       "2  3.031703e-06 -3.798305e-08      -0.000299  0.001001  0.001155  0.001529   \n",
       "3  2.566079e-06 -7.746774e-08      -0.000299  0.000925  0.001078  0.001421   \n",
       "4  9.835666e-07 -6.853105e-08       0.000343  0.000843  0.001006  0.001312   \n",
       "\n",
       "     Y_phase       dq/mA.h  Unnamed: 21             w  \n",
       "0  48.601131 -2.271957e-08          NaN  6.283302e+06  \n",
       "1  48.702984  1.470459e-09          NaN  5.599868e+06  \n",
       "2  49.087490 -1.673393e-08          NaN  4.990939e+06  \n",
       "3  49.368668 -3.948469e-08          NaN  4.448180e+06  \n",
       "4  50.013023  8.936687e-09          NaN  3.964419e+06  "
      ]
     },
     "execution_count": 27,
     "metadata": {},
     "output_type": "execute_result"
    }
   ],
   "source": [
    "from tools import *\n",
    "from lmfit import minimize, Minimizer, Parameters, Parameter, report_fit\n",
    "mpt = mpt_data(path = r'C:\\Users\\cjang.WILDCAT\\Desktop\\EIS_Manager\\data\\\\', data = ['DE_104_1_30_trimmed.mpt'])\n",
    "bad_inds = [0,2,3]\n",
    "mpt.df_raw.head()"
   ]
  },
  {
   "cell_type": "code",
   "execution_count": 28,
   "metadata": {},
   "outputs": [
    {
     "name": "stderr",
     "output_type": "stream",
     "text": [
      "No handles with labels found to put in legend.\n"
     ]
    },
    {
     "data": {
      "image/png": "[encoded data removed]",
      "text/plain": [
       "<Figure size 768x576 with 1 Axes>"
      ]
     },
     "metadata": {},
     "output_type": "display_data"
    }
   ],
   "source": [
    "mpt.mpt_plot()"
   ]
  },
  {
   "cell_type": "code",
   "execution_count": 29,
   "metadata": {},
   "outputs": [
    {
     "data": {
      "text/html": [
       "<div>\n",
       "<style scoped>\n",
       "    .dataframe tbody tr th:only-of-type {\n",
       "        vertical-align: middle;\n",
       "    }\n",
       "\n",
       "    .dataframe tbody tr th {\n",
       "        vertical-align: top;\n",
       "    }\n",
       "\n",
       "    .dataframe thead th {\n",
       "        text-align: right;\n",
       "    }\n",
       "</style>\n",
       "<table border=\"1\" class=\"dataframe\">\n",
       "  <thead>\n",
       "    <tr style=\"text-align: right;\">\n",
       "      <th></th>\n",
       "      <th>file</th>\n",
       "      <th>fit_Rs</th>\n",
       "      <th>fit_R1</th>\n",
       "      <th>fit_n1</th>\n",
       "      <th>fit_fs1</th>\n",
       "      <th>fit_Q1</th>\n",
       "      <th>fit_R2</th>\n",
       "      <th>fit_n2</th>\n",
       "      <th>fit_fs2</th>\n",
       "      <th>fit_Q2</th>\n",
       "      <th>fit_Q3</th>\n",
       "      <th>fit_n3</th>\n",
       "    </tr>\n",
       "  </thead>\n",
       "  <tbody>\n",
       "    <tr>\n",
       "      <th>0</th>\n",
       "      <td>DE_104_1_30_trimmed.mpt</td>\n",
       "      <td>239.505055</td>\n",
       "      <td>1398.063635</td>\n",
       "      <td>0.91046</td>\n",
       "      <td>95238.228566</td>\n",
       "      <td>3.933243e-09</td>\n",
       "      <td>5241.314751</td>\n",
       "      <td>0.766801</td>\n",
       "      <td>20831.759901</td>\n",
       "      <td>2.274630e-08</td>\n",
       "      <td>3.954920e-07</td>\n",
       "      <td>0.734353</td>\n",
       "    </tr>\n",
       "  </tbody>\n",
       "</table>\n",
       "</div>"
      ],
      "text/plain": [
       "                      file      fit_Rs       fit_R1   fit_n1       fit_fs1  \\\n",
       "0  DE_104_1_30_trimmed.mpt  239.505055  1398.063635  0.91046  95238.228566   \n",
       "\n",
       "         fit_Q1       fit_R2    fit_n2       fit_fs2        fit_Q2  \\\n",
       "0  3.933243e-09  5241.314751  0.766801  20831.759901  2.274630e-08   \n",
       "\n",
       "         fit_Q3    fit_n3  \n",
       "0  3.954920e-07  0.734353  "
      ]
     },
     "execution_count": 29,
     "metadata": {},
     "output_type": "execute_result"
    }
   ],
   "source": [
    "mpt.guesser()"
   ]
  },
  {
   "cell_type": "code",
   "execution_count": 25,
   "metadata": {},
   "outputs": [
    {
     "data": {
      "text/plain": [
       "172109.43593206568"
      ]
     },
     "execution_count": 25,
     "metadata": {},
     "output_type": "execute_result"
    }
   ],
   "source": [
    "mpt.low_error"
   ]
  },
  {
   "cell_type": "code",
   "execution_count": 26,
   "metadata": {},
   "outputs": [
    {
     "name": "stderr",
     "output_type": "stream",
     "text": [
      "No handles with labels found to put in legend.\n"
     ]
    },
    {
     "data": {
      "image/png": "[encoded data removed]",
      "text/plain": [
       "<Figure size 768x576 with 1 Axes>"
      ]
     },
     "metadata": {},
     "output_type": "display_data"
    }
   ],
   "source": [
    "mpt.mpt_plot(fitting = 'on')"
   ]
  },
  {
   "cell_type": "code",
   "execution_count": 5,
   "metadata": {
    "tags": []
   },
   "outputs": [
    {
     "output_type": "execute_result",
     "data": {
      "text/plain": "1"
     },
     "metadata": {},
     "execution_count": 5
    }
   ],
   "source": [
    "1"
   ]
  },
  {
   "cell_type": "code",
   "execution_count": null,
   "metadata": {},
   "outputs": [],
   "source": []
  }
 ],
 "metadata": {
  "file_extension": ".py",
  "kernelspec": {
   "display_name": "Python 3.8.2 64-bit ('env': venv)",
   "language": "python",
   "name": "python38264bitenvvenv036809a348994fecb2c69aa9a53d9fc4"
  },
  "language_info": {
   "codemirror_mode": {
    "name": "ipython",
    "version": 3
   },
   "file_extension": ".py",
   "mimetype": "text/x-python",
   "name": "python",
   "nbconvert_exporter": "python",
   "pygments_lexer": "ipython3",
   "version": "3.8.3-final"
  },
  "mimetype": "text/x-python",
  "name": "python",
  "npconvert_exporter": "python",
  "pygments_lexer": "ipython3",
  "version": 3
 },
 "nbformat": 4,
 "nbformat_minor": 2
}